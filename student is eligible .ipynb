{
 "cells": [
  {
   "cell_type": "code",
   "execution_count": 14,
   "id": "75492099",
   "metadata": {},
   "outputs": [
    {
     "name": "stdout",
     "output_type": "stream",
     "text": [
      "Enter your GPA: 8.1\n",
      "Enter relevant coursework (comma-separated):computer science\n",
      "Enter extracurricular activities (comma-separated):internship\n",
      "Selected\n"
     ]
    }
   ],
   "source": [
    "# Get user input\n",
    "gpa = float(input(\"Enter your GPA: \"))\n",
    "relevant_courses = input(\"Enter relevant coursework (comma-separated):\").split(',')\n",
    "extracurricular_activities = input(\"Enter extracurricular activities (comma-separated):\").split(',')\n",
    "\n",
    "# Define eligibility criteria\n",
    "min_gpa = 3.0\n",
    "required_courses = [\"computer science\", \"engineering\"]\n",
    "required_activities = [\"coding club\", \"internship\"]\n",
    "\n",
    "# Check eligibility\n",
    "if gpa >= min_gpa and any(course.lower() in [rc.strip().lower() for rc in relevant_courses] \\\n",
    "                          for course in required_courses) and any(activity.lower() \\\n",
    "                         in [ea.strip().lower() for ea in extracurricular_activities] for activity in required_activities):\n",
    "    print(\"sucessfully Selected\")\n",
    "else:\n",
    "    print(\"Not Selected\")\n"
   ]
  },
  {
   "cell_type": "code",
   "execution_count": null,
   "id": "21e28327",
   "metadata": {},
   "outputs": [],
   "source": []
  }
 ],
 "metadata": {
  "kernelspec": {
   "display_name": "Python 3 (ipykernel)",
   "language": "python",
   "name": "python3"
  },
  "language_info": {
   "codemirror_mode": {
    "name": "ipython",
    "version": 3
   },
   "file_extension": ".py",
   "mimetype": "text/x-python",
   "name": "python",
   "nbconvert_exporter": "python",
   "pygments_lexer": "ipython3",
   "version": "3.9.12"
  }
 },
 "nbformat": 4,
 "nbformat_minor": 5
}
