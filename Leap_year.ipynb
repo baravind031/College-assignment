{
 "cells": [
  {
   "cell_type": "code",
   "execution_count": 9,
   "id": "275b9088",
   "metadata": {},
   "outputs": [
    {
     "name": "stdout",
     "output_type": "stream",
     "text": [
      "Enter year2012\n",
      "leap year\n"
     ]
    }
   ],
   "source": [
    "t_input = int(input(\"Enter year\"))\n",
    "\n",
    "def leap(y):\n",
    "    if (y%4 == 0 and y %4 != 0) or (y%4 == 0):\n",
    "        return \"leap year\"\n",
    "    else: \n",
    "        return \"Not a Leap year\"\n",
    "    \n",
    "print(leap(t_input))"
   ]
  },
  {
   "cell_type": "code",
   "execution_count": null,
   "id": "a52a2389",
   "metadata": {},
   "outputs": [],
   "source": []
  }
 ],
 "metadata": {
  "kernelspec": {
   "display_name": "Python 3 (ipykernel)",
   "language": "python",
   "name": "python3"
  },
  "language_info": {
   "codemirror_mode": {
    "name": "ipython",
    "version": 3
   },
   "file_extension": ".py",
   "mimetype": "text/x-python",
   "name": "python",
   "nbconvert_exporter": "python",
   "pygments_lexer": "ipython3",
   "version": "3.9.12"
  }
 },
 "nbformat": 4,
 "nbformat_minor": 5
}
