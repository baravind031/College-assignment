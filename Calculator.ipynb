{
 "cells": [
  {
   "cell_type": "code",
   "execution_count": 6,
   "id": "0f1e5d11",
   "metadata": {},
   "outputs": [
    {
     "name": "stdout",
     "output_type": "stream",
     "text": [
      "Enter First Number: 5\n",
      " You entered number = 5.0\n",
      "Enter Second Number: 5\n",
      " You entered number = 5.0\n",
      "Enter your operation (+ , - , * , % , / )*\n",
      "Answer = 25\n",
      "Want continue Enter Y or N y\n",
      "Enter First Number: 5\n",
      " You entered number = 5.0\n",
      "Enter Second Number: 5\n",
      " You entered number = 5.0\n",
      "Enter your operation (+ , - , * , % , / )-\n",
      "Answer = 0\n",
      "Want continue Enter Y or N y\n",
      "Enter First Number: 5\n",
      " You entered number = 5.0\n",
      "Enter Second Number: 5\n",
      " You entered number = 5.0\n",
      "Enter your operation (+ , - , * , % , / )%\n",
      "Answer = 0\n",
      "Want continue Enter Y or N y\n",
      "Enter First Number: 5\n",
      " You entered number = 5.0\n",
      "Enter Second Number: 5\n",
      " You entered number = 5.0\n",
      "Enter your operation (+ , - , * , % , / )+\n",
      "Answer = 10\n",
      "Want continue Enter Y or N n\n"
     ]
    }
   ],
   "source": [
    "# calculator function is defined \n",
    "def calculator( *args): # if we don't know how many arguments that we will be passing into your function \n",
    "    \n",
    "    if operator ==  \"+\": # adding two numbers \n",
    "        Total = num1 + num2\n",
    "\n",
    "        \n",
    "    elif operator == '-': # substration of two numbers \n",
    "        Total = num1 - num2\n",
    "        \n",
    "    elif operator == '*': # multiplication of two numbers \n",
    "        Total = num1 * num2\n",
    "    \n",
    "    elif operator == '%': # division of two numbers \n",
    "        Total = num1 % num2\n",
    "  \n",
    "    else:\n",
    "        raise ValueError('Invalid operator') # raising a valueError when the wrong value is assigned to an object\n",
    "    \n",
    "    # is_integer() method is used with float numbers to check if they have no fractional part \n",
    "    \n",
    "    if Total.is_integer():  \n",
    "        result = int(Total) # converts it into an integer \n",
    "        \n",
    "    return result # returning result \n",
    "    \n",
    "\n",
    "continue_ = True # if condition is True then  while loop will be executing \n",
    "\n",
    "while continue_ is True : # to continue a calculation \n",
    "\n",
    "    num1 = float(input(\"Enter First Number: \")) # taking first input form the user \n",
    "\n",
    "    print(f\" You entered number = {num1}\")\n",
    "\n",
    "    num2 = float (input(\"Enter Second Number: \")) # taking second input form the user \n",
    "\n",
    "\n",
    "    print(f\" You entered number = {num2}\") \n",
    "\n",
    "    operator  = input(\"Enter your operation (+ , - , * , % , / )\") # taking operator input form the user \n",
    "\n",
    "\n",
    "    output = calculator(num1, num2 , operator) # calling a function \n",
    "    print(f\"Answer = {output}\")\n",
    "    \n",
    "    yes_or_no = input(\"Want continue Enter Y or N \") # # taking input form the user to continue or End \n",
    "\n",
    "    \n",
    "    forward = yes_or_no.lower() # converting into lower \n",
    "    \n",
    "    if  forward == 'n':\n",
    "        continue_ = False \n"
   ]
  },
  {
   "cell_type": "code",
   "execution_count": null,
   "id": "3e3cd019",
   "metadata": {},
   "outputs": [],
   "source": []
  },
  {
   "cell_type": "code",
   "execution_count": null,
   "id": "317b7d41",
   "metadata": {},
   "outputs": [],
   "source": []
  }
 ],
 "metadata": {
  "kernelspec": {
   "display_name": "Python 3 (ipykernel)",
   "language": "python",
   "name": "python3"
  },
  "language_info": {
   "codemirror_mode": {
    "name": "ipython",
    "version": 3
   },
   "file_extension": ".py",
   "mimetype": "text/x-python",
   "name": "python",
   "nbconvert_exporter": "python",
   "pygments_lexer": "ipython3",
   "version": "3.9.12"
  }
 },
 "nbformat": 4,
 "nbformat_minor": 5
}
