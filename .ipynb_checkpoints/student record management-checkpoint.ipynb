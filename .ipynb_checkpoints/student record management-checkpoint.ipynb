{
 "cells": [
  {
   "cell_type": "code",
   "execution_count": 22,
   "id": "1b6721ff",
   "metadata": {},
   "outputs": [
    {
     "name": "stdout",
     "output_type": "stream",
     "text": [
      "1. To Add a Name\n",
      "2. To Add Course\n",
      "3. Exit\n",
      "Enter your choice: 2\n",
      "Choice entered: 2\n",
      "Viewing Student Records:\n",
      "1. To Add a Name\n",
      "2. To Add Course\n",
      "3. Exit\n",
      "Enter your choice: 1\n",
      "Choice entered: 1\n",
      "Enter the student's name: Aravind\n",
      "Enter the student's course: MCA\n",
      "Student added successfully!\n",
      "1. To Add a Name\n",
      "2. To Add Course\n",
      "3. Exit\n",
      "Enter your choice: 3\n",
      "Choice entered: 3\n",
      "Exiting the program.\n"
     ]
    }
   ],
   "source": [
    "student_records = []  # A list to store student records\n",
    "\n",
    "while True:\n",
    "    \n",
    "    print(\"1. To Add a Name\")\n",
    "    print(\"2. To Add Course\")\n",
    "    print(\"3. Exit\")\n",
    "    choice = input(\"Enter your choice: \")\n",
    "    print(f\"Choice entered: {choice}\")\n",
    "\n",
    "    if choice == '1':\n",
    "        # Add Student\n",
    "        name = input(\"Enter the student's name: \")\n",
    "        course = input(\"Enter the student's course: \")\n",
    "       \n",
    "\n",
    "        student = {\n",
    "            \"name\": name,\n",
    "            \"course\": course\n",
    "             \n",
    "        }\n",
    "        student_records.append(student)\n",
    "        print(\"Student added successfully\")\n",
    "\n",
    "    elif choice == '2':\n",
    "        # View Student Records\n",
    "        print(\"Viewing Student Records:\")\n",
    "        for student in student_records:\n",
    "            print(f\"Name: {student['name']}, Roll Number: {student['course']}\")\n",
    "            \n",
    "\n",
    "    elif choice == '3':\n",
    "        # Exit\n",
    "        print(\"Exiting the program.\")\n",
    "        break\n",
    "\n",
    "    else:\n",
    "        print(\"Invalid choice. Please try again.\")\n"
   ]
  },
  {
   "cell_type": "code",
   "execution_count": null,
   "id": "5f6a4b19",
   "metadata": {},
   "outputs": [],
   "source": []
  }
 ],
 "metadata": {
  "kernelspec": {
   "display_name": "Python 3 (ipykernel)",
   "language": "python",
   "name": "python3"
  },
  "language_info": {
   "codemirror_mode": {
    "name": "ipython",
    "version": 3
   },
   "file_extension": ".py",
   "mimetype": "text/x-python",
   "name": "python",
   "nbconvert_exporter": "python",
   "pygments_lexer": "ipython3",
   "version": "3.9.12"
  }
 },
 "nbformat": 4,
 "nbformat_minor": 5
}
