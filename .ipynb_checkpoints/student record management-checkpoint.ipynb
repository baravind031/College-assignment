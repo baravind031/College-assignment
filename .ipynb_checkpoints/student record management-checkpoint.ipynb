{
 "cells": [
  {
   "cell_type": "code",
   "execution_count": null,
   "id": "d6c3451f",
   "metadata": {},
   "outputs": [
    {
     "name": "stdout",
     "output_type": "stream",
     "text": [
      "1 . To Add a Name\n",
      "2 . To Add Course\n",
      "3 . Exit\n"
     ]
    }
   ],
   "source": [
    "student_record = [] # list to store a recoreds\n",
    "\n",
    "# student_records = []  # A list to store student records\n",
    "\n",
    "while True:\n",
    "    print(\"1 . To Add a Name\")\n",
    "    print(\"2 . To Add Course\")\n",
    "    print(\"3 . Exit\")\n",
    "    choice = input(\"Enter your choice: \")\n",
    "\n",
    "    if choice == 1:\n",
    "        name = input(\"Enter the student name: \")\n",
    "        course = input(\"Enter the student  course: \")\n",
    "\n",
    "        student = {\n",
    "                \"name\": name,\n",
    "                \"course\": course\n",
    "\n",
    "            }\n",
    "        \n",
    "        student_records.append(student) # APPENDING TO THE student_record LIST \n",
    "        print(\"Student added successfull\")\n",
    "        \n",
    "    elif choice == 2:\n",
    "        print(\"Viewing Student Details ;\")\n",
    "\n",
    "        for student in student_recore :\n",
    "            print(f\"student {name['name']}, and course name {course['course']}\")\n",
    "\n",
    "    elif choice == 3:\n",
    "        print(\"Exiting the program\")\n",
    "\n",
    "        break  # BRAKING THE LOOP \n",
    "\n",
    "    else:\n",
    "        print(\"Please choice correct option\")"
   ]
  },
  {
   "cell_type": "code",
   "execution_count": null,
   "id": "21201339",
   "metadata": {},
   "outputs": [],
   "source": []
  }
 ],
 "metadata": {
  "kernelspec": {
   "display_name": "Python 3 (ipykernel)",
   "language": "python",
   "name": "python3"
  },
  "language_info": {
   "codemirror_mode": {
    "name": "ipython",
    "version": 3
   },
   "file_extension": ".py",
   "mimetype": "text/x-python",
   "name": "python",
   "nbconvert_exporter": "python",
   "pygments_lexer": "ipython3",
   "version": "3.9.12"
  }
 },
 "nbformat": 4,
 "nbformat_minor": 5
}
