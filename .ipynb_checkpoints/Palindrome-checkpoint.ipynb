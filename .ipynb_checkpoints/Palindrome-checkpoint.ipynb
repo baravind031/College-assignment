{
 "cells": [
  {
   "cell_type": "code",
   "execution_count": 25,
   "id": "b1e8fe23",
   "metadata": {},
   "outputs": [
    {
     "name": "stdout",
     "output_type": "stream",
     "text": [
      "enter your input AB121AB\n",
      "'AB121AB' is not a palindrome\n"
     ]
    }
   ],
   "source": [
    "# defined a function name is_palindrome\n",
    "def is_palindrome(n):\n",
    "    return n== n[::-1] # compares the original text with its reverse to check if they are the same.\n",
    "inp = input(\"enter your input \")\n",
    "# print(is_palindrome(inp))\n",
    "if is_palindrome(inp):\n",
    "    print(f\"{inp} is a palindrome\")\n",
    "else:\n",
    "    print(f\"'{inp}' is not a palindrome\")\n"
   ]
  },
  {
   "cell_type": "code",
   "execution_count": 7,
   "id": "d11ba5e8",
   "metadata": {},
   "outputs": [
    {
     "name": "stdout",
     "output_type": "stream",
     "text": [
      "enter your input 4321\n",
      "1234\n"
     ]
    }
   ],
   "source": [
    "inp = input(\"enter your input \")\n",
    "print(inp[::-1])"
   ]
  },
  {
   "cell_type": "code",
   "execution_count": null,
   "id": "25bc9284",
   "metadata": {},
   "outputs": [],
   "source": []
  }
 ],
 "metadata": {
  "kernelspec": {
   "display_name": "Python 3 (ipykernel)",
   "language": "python",
   "name": "python3"
  },
  "language_info": {
   "codemirror_mode": {
    "name": "ipython",
    "version": 3
   },
   "file_extension": ".py",
   "mimetype": "text/x-python",
   "name": "python",
   "nbconvert_exporter": "python",
   "pygments_lexer": "ipython3",
   "version": "3.9.12"
  }
 },
 "nbformat": 4,
 "nbformat_minor": 5
}
