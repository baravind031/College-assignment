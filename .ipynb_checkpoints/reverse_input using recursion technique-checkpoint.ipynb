{
 "cells": [
  {
   "cell_type": "code",
   "execution_count": 3,
   "id": "7c261fbf",
   "metadata": {},
   "outputs": [
    {
     "name": "stdout",
     "output_type": "stream",
     "text": [
      "Enter a your input ABCD654321\n",
      "reversed input result is : 123456DCBA\n"
     ]
    }
   ],
   "source": [
    "# BY using recursion  \n",
    "\n",
    "def reverse_input(my_string):\n",
    "\n",
    "      if len(my_string) == 0:\n",
    "        return my_string\n",
    "      else:\n",
    "            return reverse_input(my_string[1:]) + my_string[0]\n",
    "    \n",
    "inpu_t = input(\"Enter a your input \")\n",
    "\n",
    "result = reverse_input(inpu_t)\n",
    "print(\"reversed input result is : \"+result)"
   ]
  },
  {
   "cell_type": "code",
   "execution_count": null,
   "id": "35284db5",
   "metadata": {},
   "outputs": [],
   "source": []
  }
 ],
 "metadata": {
  "kernelspec": {
   "display_name": "Python 3 (ipykernel)",
   "language": "python",
   "name": "python3"
  },
  "language_info": {
   "codemirror_mode": {
    "name": "ipython",
    "version": 3
   },
   "file_extension": ".py",
   "mimetype": "text/x-python",
   "name": "python",
   "nbconvert_exporter": "python",
   "pygments_lexer": "ipython3",
   "version": "3.9.12"
  }
 },
 "nbformat": 4,
 "nbformat_minor": 5
}
