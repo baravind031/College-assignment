{
 "cells": [
  {
   "cell_type": "code",
   "execution_count": 3,
   "id": "1d769ae5",
   "metadata": {},
   "outputs": [
    {
     "name": "stdout",
     "output_type": "stream",
     "text": [
      "Type your sentance or paragaphRegression is a statistical approach to find the correlation between variables(like dependent(target ouput) and independent(feature column inputs))\n",
      "17\n"
     ]
    }
   ],
   "source": [
    "give_inp = input(\"Type your sentance or paragaph\")\n",
    "\n",
    "result = give_inp.split()\n",
    "\n",
    "print(f\"total number of words presnt : {len(result)}\")"
   ]
  },
  {
   "cell_type": "code",
   "execution_count": null,
   "id": "1321f2c0",
   "metadata": {},
   "outputs": [],
   "source": []
  }
 ],
 "metadata": {
  "kernelspec": {
   "display_name": "Python 3 (ipykernel)",
   "language": "python",
   "name": "python3"
  },
  "language_info": {
   "codemirror_mode": {
    "name": "ipython",
    "version": 3
   },
   "file_extension": ".py",
   "mimetype": "text/x-python",
   "name": "python",
   "nbconvert_exporter": "python",
   "pygments_lexer": "ipython3",
   "version": "3.9.12"
  }
 },
 "nbformat": 4,
 "nbformat_minor": 5
}
