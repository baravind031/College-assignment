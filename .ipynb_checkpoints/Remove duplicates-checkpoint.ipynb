{
 "cells": [
  {
   "cell_type": "code",
   "execution_count": 5,
   "id": "01e76a34",
   "metadata": {},
   "outputs": [
    {
     "name": "stdout",
     "output_type": "stream",
     "text": [
      "14\n"
     ]
    }
   ],
   "source": [
    "list_1 = [1,2,3,4,5,6,1,2,3,6,3,4,4,5]\n",
    "print(len(list_1))\n"
   ]
  },
  {
   "cell_type": "code",
   "execution_count": 6,
   "id": "cc0c1305",
   "metadata": {},
   "outputs": [
    {
     "name": "stdout",
     "output_type": "stream",
     "text": [
      "{1: None, 2: None, 3: None, 4: None, 5: None, 6: None}\n"
     ]
    }
   ],
   "source": [
    "remove_duplicates = dict.fromkeys(list_1) \n",
    "\n",
    "# dictionary fromkeys() function returns the dictionary with key mapped and specific value.\n",
    "\n",
    "print(remove_duplicates)"
   ]
  },
  {
   "cell_type": "code",
   "execution_count": 7,
   "id": "78a3d1bb",
   "metadata": {},
   "outputs": [
    {
     "name": "stdout",
     "output_type": "stream",
     "text": [
      "[1, 2, 3, 4, 5, 6]\n"
     ]
    }
   ],
   "source": [
    "ordering = list(set(list_1)) # duplicates are removed from the list is by set() method\n",
    "print(ordering)"
   ]
  },
  {
   "cell_type": "code",
   "execution_count": 8,
   "id": "15de4c65",
   "metadata": {},
   "outputs": [
    {
     "name": "stdout",
     "output_type": "stream",
     "text": [
      "[1, 2, 3, 4, 5, 6, 7]\n"
     ]
    }
   ],
   "source": [
    "def remove_duplicates(x):\n",
    "    return list(dict.fromkeys(x))\n",
    "\n",
    "list_2 = [1,2,2,3,3,4,4,5,5,6,6,7]\n",
    "\n",
    "result = remove_duplicates(list_2)\n",
    "print(result)"
   ]
  },
  {
   "cell_type": "code",
   "execution_count": 9,
   "id": "54642b9e",
   "metadata": {},
   "outputs": [
    {
     "name": "stdout",
     "output_type": "stream",
     "text": [
      "[1, 2, 3, 4, 5, 6, 7]\n"
     ]
    }
   ],
   "source": [
    "def _duplicates(x):\n",
    "    return list(set(x))\n",
    "\n",
    "list_2 = [1,2,2,3,3,4,4,5,5,6,6,7]\n",
    "\n",
    "result = remove_duplicates(list_2)\n",
    "print(result)"
   ]
  },
  {
   "cell_type": "code",
   "execution_count": null,
   "id": "1ff886e8",
   "metadata": {},
   "outputs": [],
   "source": []
  }
 ],
 "metadata": {
  "kernelspec": {
   "display_name": "Python 3 (ipykernel)",
   "language": "python",
   "name": "python3"
  },
  "language_info": {
   "codemirror_mode": {
    "name": "ipython",
    "version": 3
   },
   "file_extension": ".py",
   "mimetype": "text/x-python",
   "name": "python",
   "nbconvert_exporter": "python",
   "pygments_lexer": "ipython3",
   "version": "3.9.12"
  }
 },
 "nbformat": 4,
 "nbformat_minor": 5
}
